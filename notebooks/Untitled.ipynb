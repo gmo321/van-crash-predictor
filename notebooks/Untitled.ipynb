{
 "cells": [
  {
   "cell_type": "code",
   "execution_count": 1,
   "id": "37583c84-5507-4feb-8552-4b0f8db92d9b",
   "metadata": {},
   "outputs": [],
   "source": [
    "import os\n",
    "os.environ['PYSPARK_SUBMIT_ARGS'] = '--packages org.apache.spark:spark-sql-kafka-0-10_2.12:3.5.0 pyspark-shell'"
   ]
  },
  {
   "cell_type": "code",
   "execution_count": 2,
   "id": "dc063a70-7ef3-452a-b76e-b31866566bbe",
   "metadata": {},
   "outputs": [
    {
     "data": {
      "text/html": [
       "\n",
       "            <div>\n",
       "                <p><b>SparkSession - in-memory</b></p>\n",
       "                \n",
       "        <div>\n",
       "            <p><b>SparkContext</b></p>\n",
       "\n",
       "            <p><a href=\"http://61149ae37aad:4040\">Spark UI</a></p>\n",
       "\n",
       "            <dl>\n",
       "              <dt>Version</dt>\n",
       "                <dd><code>v3.5.0</code></dd>\n",
       "              <dt>Master</dt>\n",
       "                <dd><code>local[*]</code></dd>\n",
       "              <dt>AppName</dt>\n",
       "                <dd><code>Stream Demo</code></dd>\n",
       "            </dl>\n",
       "        </div>\n",
       "        \n",
       "            </div>\n",
       "        "
      ],
      "text/plain": [
       "<pyspark.sql.session.SparkSession at 0xffff71fa9810>"
      ]
     },
     "execution_count": 2,
     "metadata": {},
     "output_type": "execute_result"
    }
   ],
   "source": [
    "from pyspark.sql import SparkSession\n",
    "from pyspark.sql.types import *\n",
    "import pyspark.sql.functions as F\n",
    "\n",
    "spark = SparkSession \\\n",
    "    .builder \\\n",
    "    .appName('Stream Demo') \\\n",
    "    .getOrCreate()\n",
    "\n",
    "# Set the legacy time parser policy to handle the date format correctly\n",
    "spark.conf.set(\"spark.sql.legacy.timeParserPolicy\", \"LEGACY\")\n",
    "\n",
    "spark "
   ]
  },
  {
   "cell_type": "code",
   "execution_count": 4,
   "id": "1c13ab8d-c892-4ab9-b4b5-cf1bfa21267d",
   "metadata": {},
   "outputs": [],
   "source": [
    "from pyspark.sql.functions import *\n",
    "\n",
    "weather_stream = spark \\\n",
    "    .readStream \\\n",
    "    .format(\"kafka\") \\\n",
    "    .option(\"kafka.bootstrap.servers\", \"kafka:9092\") \\\n",
    "    .option(\"subscribe\", \"weather-data\") \\\n",
    "    .option(\"startingOffsets\", \"latest\") \\\n",
    "    .load()\n",
    "\n",
    "#.option(\"startingOffsets\", \"latest\") \\\n",
    "\n",
    "#.option(\"startingOffsets\", \"latest\") \\\n",
    "\n",
    "\n",
    "traffic_stream = spark \\\n",
    "    .readStream \\\n",
    "    .format(\"kafka\") \\\n",
    "    .option(\"kafka.bootstrap.servers\", \"kafka:9092\") \\\n",
    "    .option(\"subscribe\", \"traffic-data\") \\\n",
    "    .option(\"startingOffsets\", \"latest\") \\\n",
    "    .load()\n",
    "\n",
    "\n",
    "#.option(\"startingOffsets\", \"latest\") \\\n",
    "\n",
    "\n",
    "weather_json_df = weather_stream.selectExpr(\"CAST(value AS STRING) as value\")\n",
    "\n",
    "traffic_json_df = traffic_stream.selectExpr(\"CAST(value AS STRING) as value\")\n",
    "\n",
    "#traffic_json_df = traffic_stream.withColumn('value', expr('cast(value as string)')).withColumn('key', expr('cast(key as string)'))\n",
    "\n",
    "# {\"latitude\": 49.2838889, \"longitude\": -122.7933334, \"current_speed\": 28, \"free_flow_speed\": 28, \n",
    "#\"current_travel_time\": 131, \"free_flow_travel_time\": 131, \"confidence\": 1, \"road_closure\": false}\n",
    "\n",
    "weather_schema = StructType([\n",
    "    StructField('name', StringType()),\n",
    "    StructField('latitude', DoubleType()),\n",
    "    StructField('longitude', DoubleType()),\n",
    "    StructField('date', IntegerType()),\n",
    "    StructField('weather', StringType()),\n",
    "    StructField('weather_description', StringType()),\n",
    "    StructField('temp', DoubleType()),\n",
    "    StructField('visibility', IntegerType()),\n",
    "    StructField('clouds', IntegerType()),\n",
    "    StructField('rain', DoubleType()),\n",
    "    StructField('snow', DoubleType()),\n",
    "])\n",
    "\n",
    "traffic_schema = StructType([\n",
    "    StructField(\"latitude\", DoubleType(), True),\n",
    "    StructField(\"longitude\", DoubleType(), True),\n",
    "    StructField(\"current_speed\", IntegerType(), True),\n",
    "    StructField(\"free_flow_speed\", IntegerType(), True),\n",
    "    StructField(\"current_travel_time\", IntegerType(), True),\n",
    "    StructField(\"free_flow_travel_time\", IntegerType(), True),\n",
    "    StructField(\"confidence\", IntegerType(), True),\n",
    "    StructField(\"road_closure\", BooleanType(), True),\n",
    "    StructField(\"date\", StringType(), True)\n",
    "])\n",
    "\n",
    "# Parse the 'value' column as JSON\n",
    "weather_parsed_df = weather_json_df.select(from_json(\"value\", weather_schema).alias(\"data\"))\n",
    "traffic_parsed_df = traffic_json_df.select(from_json(\"value\", traffic_schema).alias(\"data\"))\n",
    "#traffic_parsed_df = traffic_json_df.withColumn(\"values_json\", from_json(col(\"value\"), traffic_schema))\n",
    "\n",
    "\n",
    "# Flatten the JSON into separate columns\n",
    "weather_flatten_df = weather_parsed_df.select(\n",
    "                col('data.name').alias('name'),\n",
    "                col('data.latitude').alias('latitude'),\n",
    "                col('data.longitude').alias('longitude'), \n",
    "                from_unixtime(col('data.date')).alias('date_unix'),\n",
    "                from_utc_timestamp(col(\"date_unix\"), \"America/Los_Angeles\").alias(\"date\"),\n",
    "                col('data.weather').alias('weather'), \n",
    "                col('data.weather_description').alias('weather_description'), \n",
    "                col('data.temp').alias('temp'), \n",
    "                col('data.visibility').alias('visibility'),\n",
    "                col('data.clouds').alias('clouds'),\n",
    "                col('data.rain').alias('rain'),\n",
    "                col('data.snow').alias('snow'))\n",
    "    \n",
    "weather_flatten_df = weather_flatten_df.drop(\"date_unix\")\n",
    "\n",
    "traffic_flatten_df = traffic_parsed_df.select(\n",
    "    col(\"data.latitude\").alias(\"latitude\"), \n",
    "    col(\"data.longitude\").alias(\"longitude\"),\n",
    "    col(\"data.current_speed\").alias(\"current_speed\"),\n",
    "    col(\"data.free_flow_speed\").alias(\"free_flow_speed\"),\n",
    "    col(\"data.current_travel_time\").alias(\"current_travel_time\"),\n",
    "    col(\"data.free_flow_travel_time\").alias(\"free_flow_travel_time\"),\n",
    "    col(\"data.confidence\").alias(\"confidence\"),\n",
    "    col(\"data.road_closure\").alias(\"road_closure\"),\n",
    "    to_timestamp(col(\"data.date\"), \"EEE, dd MMM yyyy HH:mm:ss z\").alias(\"date_utc\"),\n",
    "    from_utc_timestamp(col(\"date_utc\"), \"America/Los_Angeles\").alias(\"date\")\n",
    ")\n",
    "\n",
    "traffic_flatten_df = traffic_flatten_df.drop(\"date_utc\")\n",
    "\n",
    "#traffic_flatten_df.show(truncate=False)\n",
    "#weather_parsed_df.printSchema()\n",
    "#weather_flatten_df.show(truncate=False)\n",
    "\n",
    "# Convert date string to timestamp in UTC\n",
    "#to_timestamp(col(\"values_json.date\"), \"EEE, dd MMM yyyy HH:mm:ss z\").alias(\"date_utc\"),\n",
    "# Convert to PST\n",
    "#from_utc_timestamp(col(\"values_json.date\"), \"America/Los_Angeles\").alias(\"date\")\n",
    "\n",
    "\n",
    "# Convert UNIX timestamp to \n",
    "#weather_flatten_df = weather_flatten_df.withColumn((from_unixtime(col(\"date\")).alias(\"date\"))\n",
    "#traffic_flatten_df.show(truncate=False)\n",
    "#traffic_flatten_df.printSchema()"
   ]
  },
  {
   "cell_type": "code",
   "execution_count": null,
   "id": "01c0c101-b02b-4a43-9340-edbf2f29adc9",
   "metadata": {},
   "outputs": [],
   "source": []
  },
  {
   "cell_type": "code",
   "execution_count": 5,
   "id": "39772d51-454d-4e97-aba2-63aea64af8c3",
   "metadata": {},
   "outputs": [
    {
     "name": "stdout",
     "output_type": "stream",
     "text": [
      "Streaming started... waiting for data...\n"
     ]
    },
    {
     "data": {
      "text/plain": [
       "False"
      ]
     },
     "execution_count": 5,
     "metadata": {},
     "output_type": "execute_result"
    }
   ],
   "source": [
    "from pyspark.sql.functions import col\n",
    "from pyspark.sql.streaming import Trigger\n",
    "\n",
    "# Set the interval (e.g., hourly) for the trigger\n",
    "trigger_interval = \"1 hour\" \n",
    "\n",
    "\n",
    "weather_query = weather_flatten_df \\\n",
    "    .writeStream \\\n",
    "    .outputMode('append') \\\n",
    "    .format('delta') \\\n",
    "    .option(\"checkpointLocation\", \"s3://van-crash-data/checkpoints/weather\") \\\n",
    "    .trigger(processingTime=trigger_interval) \\\n",
    "    .start(\"s3://van-crash-data/weather-data\")\n",
    "    .start()\n",
    "traffic_query = traffic_flatten_df \\\n",
    "    .writeStream \\\n",
    "    .outputMode('append') \\\n",
    "    .format('delta') \\\n",
    "    .option(\"checkpointLocation\", \"s3://van-crash-data/checkpoints/traffic\") \\\n",
    "    .trigger(processingTime=trigger_interval) \\\n",
    "    .start(\"s3://van-crash-data/traffic-data\")\n",
    "\n",
    "print(\"Streaming started... waiting for data...\")\n",
    "weather_query.awaitTermination(60)\n",
    "traffic_query.awaitTermination(60)\n"
   ]
  },
  {
   "cell_type": "code",
   "execution_count": null,
   "id": "2c1fca27-b836-4b93-b74a-3a36a710f2c8",
   "metadata": {},
   "outputs": [],
   "source": [
    "weather_query.stop()\n",
    "traffic_query.stop()"
   ]
  },
  {
   "cell_type": "code",
   "execution_count": null,
   "id": "cdd9875f-2c65-46ab-bb45-5828ef56e9a1",
   "metadata": {},
   "outputs": [],
   "source": []
  }
 ],
 "metadata": {
  "kernelspec": {
   "display_name": "Python 3 (ipykernel)",
   "language": "python",
   "name": "python3"
  },
  "language_info": {
   "codemirror_mode": {
    "name": "ipython",
    "version": 3
   },
   "file_extension": ".py",
   "mimetype": "text/x-python",
   "name": "python",
   "nbconvert_exporter": "python",
   "pygments_lexer": "ipython3",
   "version": "3.11.6"
  }
 },
 "nbformat": 4,
 "nbformat_minor": 5
}
