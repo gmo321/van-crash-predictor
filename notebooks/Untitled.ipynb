{
 "cells": [
  {
   "cell_type": "code",
   "execution_count": 1,
   "id": "37583c84-5507-4feb-8552-4b0f8db92d9b",
   "metadata": {},
   "outputs": [],
   "source": [
    "import os\n",
    "os.environ['PYSPARK_SUBMIT_ARGS'] = '--packages org.apache.spark:spark-sql-kafka-0-10_2.12:3.5.0 pyspark-shell'"
   ]
  },
  {
   "cell_type": "code",
   "execution_count": 2,
   "id": "dc063a70-7ef3-452a-b76e-b31866566bbe",
   "metadata": {},
   "outputs": [
    {
     "data": {
      "text/html": [
       "\n",
       "            <div>\n",
       "                <p><b>SparkSession - in-memory</b></p>\n",
       "                \n",
       "        <div>\n",
       "            <p><b>SparkContext</b></p>\n",
       "\n",
       "            <p><a href=\"http://9c0e7a8e5ce0:4040\">Spark UI</a></p>\n",
       "\n",
       "            <dl>\n",
       "              <dt>Version</dt>\n",
       "                <dd><code>v3.5.0</code></dd>\n",
       "              <dt>Master</dt>\n",
       "                <dd><code>local[*]</code></dd>\n",
       "              <dt>AppName</dt>\n",
       "                <dd><code>Stream Demo</code></dd>\n",
       "            </dl>\n",
       "        </div>\n",
       "        \n",
       "            </div>\n",
       "        "
      ],
      "text/plain": [
       "<pyspark.sql.session.SparkSession at 0xffff63441250>"
      ]
     },
     "execution_count": 2,
     "metadata": {},
     "output_type": "execute_result"
    }
   ],
   "source": [
    "from pyspark.sql import SparkSession\n",
    "from pyspark.sql.types import *\n",
    "import pyspark.sql.functions as F\n",
    "\n",
    "spark = SparkSession \\\n",
    "    .builder \\\n",
    "    .appName('Stream Demo') \\\n",
    "    .getOrCreate()\n",
    "\n",
    "# Set the legacy time parser policy to handle the date format correctly\n",
    "spark.conf.set(\"spark.sql.legacy.timeParserPolicy\", \"LEGACY\")\n",
    "\n",
    "spark "
   ]
  },
  {
   "cell_type": "code",
   "execution_count": 3,
   "id": "1c13ab8d-c892-4ab9-b4b5-cf1bfa21267d",
   "metadata": {},
   "outputs": [
    {
     "name": "stdout",
     "output_type": "stream",
     "text": [
      "+--------------+--------+---------+-------------------+-------+-------------------+-----+----------+------+----+----+\n",
      "|name          |latitude|longitude|date               |weather|weather_description|temp |visibility|clouds|rain|snow|\n",
      "+--------------+--------+---------+-------------------+-------+-------------------+-----+----------+------+----+----+\n",
      "|NULL          |NULL    |NULL     |NULL               |NULL   |NULL               |NULL |NULL      |NULL  |NULL|NULL|\n",
      "|NULL          |NULL    |NULL     |NULL               |NULL   |NULL               |NULL |NULL      |NULL  |NULL|NULL|\n",
      "|NULL          |NULL    |NULL     |NULL               |NULL   |NULL               |NULL |NULL      |NULL  |NULL|NULL|\n",
      "|Port Coquitlam|49.2839 |-122.7933|2025-03-25 23:21:47|Clouds |overcast clouds    |11.47|10000     |100   |0.0 |0.0 |\n",
      "|Hope          |49.3797 |-121.4414|2025-03-25 23:21:47|Clear  |clear sky          |10.96|10000     |0     |0.0 |0.0 |\n",
      "|Port Coquitlam|49.2617 |-122.7803|2025-03-25 23:21:47|Clouds |overcast clouds    |10.86|10000     |100   |0.0 |0.0 |\n",
      "|Port Coquitlam|49.2839 |-122.7933|2025-03-25 23:21:47|Clouds |overcast clouds    |11.47|10000     |100   |0.0 |0.0 |\n",
      "|Hope          |49.3797 |-121.4414|2025-03-25 23:21:47|Clear  |clear sky          |10.96|10000     |0     |0.0 |0.0 |\n",
      "|Port Coquitlam|49.2617 |-122.7803|2025-03-25 23:21:47|Clouds |overcast clouds    |10.86|10000     |100   |0.0 |0.0 |\n",
      "|Port Coquitlam|49.2839 |-122.7933|2025-03-25 23:21:47|Clouds |overcast clouds    |11.47|10000     |100   |0.0 |0.0 |\n",
      "|Hope          |49.3797 |-121.4414|2025-03-25 23:21:47|Clear  |clear sky          |10.96|10000     |0     |0.0 |0.0 |\n",
      "|Port Coquitlam|49.2617 |-122.7803|2025-03-25 23:21:47|Clouds |overcast clouds    |10.86|10000     |100   |0.0 |0.0 |\n",
      "|Port Coquitlam|49.2839 |-122.7933|2025-03-25 23:21:47|Clouds |overcast clouds    |11.47|10000     |100   |0.0 |0.0 |\n",
      "|Hope          |49.3797 |-121.4414|2025-03-25 23:21:47|Clear  |clear sky          |10.96|10000     |0     |0.0 |0.0 |\n",
      "|Port Coquitlam|49.2617 |-122.7803|2025-03-25 23:21:47|Clouds |overcast clouds    |10.86|10000     |100   |0.0 |0.0 |\n",
      "|Port Coquitlam|49.2839 |-122.7933|2025-03-25 23:21:47|Clouds |overcast clouds    |11.47|10000     |100   |0.0 |0.0 |\n",
      "|Hope          |49.3797 |-121.4414|2025-03-25 23:21:47|Clear  |clear sky          |10.96|10000     |0     |0.0 |0.0 |\n",
      "|Port Coquitlam|49.2617 |-122.7803|2025-03-25 23:21:47|Clouds |overcast clouds    |10.86|10000     |100   |0.0 |0.0 |\n",
      "|Port Coquitlam|49.2839 |-122.7933|2025-03-25 23:21:47|Clouds |overcast clouds    |11.47|10000     |100   |0.0 |0.0 |\n",
      "|Hope          |49.3797 |-121.4414|2025-03-25 23:21:47|Clear  |clear sky          |10.96|10000     |0     |0.0 |0.0 |\n",
      "+--------------+--------+---------+-------------------+-------+-------------------+-----+----------+------+----+----+\n",
      "only showing top 20 rows\n",
      "\n"
     ]
    }
   ],
   "source": [
    "from pyspark.sql.functions import *\n",
    "\n",
    "weather_stream = spark \\\n",
    "    .read \\\n",
    "    .format(\"kafka\") \\\n",
    "    .option(\"kafka.bootstrap.servers\", \"kafka:9092\") \\\n",
    "    .option(\"subscribe\", \"weather-data\") \\\n",
    "    .load()\n",
    "\n",
    "#.option(\"startingOffsets\", \"latest\") \\\n",
    "\n",
    "#.option(\"startingOffsets\", \"latest\") \\\n",
    "\n",
    "\n",
    "traffic_stream = spark \\\n",
    "    .readStream \\\n",
    "    .format(\"kafka\") \\\n",
    "    .option(\"kafka.bootstrap.servers\", \"kafka:9092\") \\\n",
    "    .option(\"subscribe\", \"traffic-data\") \\\n",
    "    .option(\"startingOffsets\", \"latest\") \\\n",
    "    .load()\n",
    "\n",
    "#.option(\"startingOffsets\", \"latest\") \\\n",
    "\n",
    "\n",
    "weather_json_df = weather_stream.selectExpr(\"CAST(value AS STRING) as value\")\n",
    "\n",
    "traffic_json_df = traffic_stream.withColumn('value', expr('cast(value as string)')).withColumn('key', expr('cast(key as string)'))\n",
    "\n",
    "weather_schema = StructType([\n",
    "    StructField('name', StringType()),\n",
    "    StructField('latitude', DoubleType()),\n",
    "    StructField('longitude', DoubleType()),\n",
    "    StructField('date', IntegerType()),\n",
    "    StructField('weather', StringType()),\n",
    "    StructField('weather_description', StringType()),\n",
    "    StructField('temp', DoubleType()),\n",
    "    StructField('visibility', IntegerType()),\n",
    "    StructField('clouds', IntegerType()),\n",
    "    StructField('rain', DoubleType()),\n",
    "    StructField('snow', DoubleType()),\n",
    "])\n",
    "\n",
    "traffic_schema = StructType([\n",
    "    StructField(\"latitude\", DoubleType(), True),\n",
    "    StructField(\"longitude\", DoubleType(), True),\n",
    "    StructField(\"current_speed\", IntegerType(), True),\n",
    "    StructField(\"free_flow_speed\", IntegerType(), True),\n",
    "    StructField(\"current_travel_time\", IntegerType(), True),\n",
    "    StructField(\"free_flow_travel_time\", IntegerType(), True),\n",
    "    StructField(\"confidence\", IntegerType(), True),\n",
    "    StructField(\"road_closure\", BooleanType(), True),\n",
    "    StructField(\"date\", StringType(), True)\n",
    "])\n",
    "\n",
    "# Parse the 'value' column as JSON\n",
    "weather_parsed_df = weather_json_df.select(from_json(\"value\", weather_schema).alias(\"data\"))\n",
    "traffic_parsed_df = traffic_json_df.withColumn(\"values_json\", from_json(col(\"value\"), traffic_schema))\n",
    "\n",
    "\n",
    "# Flatten the JSON into separate columns\n",
    "weather_flatten_df = weather_parsed_df.select(\n",
    "                col('data.name').alias('name'),\n",
    "                col('data.latitude').alias('latitude'),\n",
    "                col('data.longitude').alias('longitude'), \n",
    "                from_unixtime(col('data.date')).alias('date_unix'),\n",
    "                from_utc_timestamp(col(\"date_unix\"), \"America/Los_Angeles\").alias(\"date\"),\n",
    "                col('data.weather').alias('weather'), \n",
    "                col('data.weather_description').alias('weather_description'), \n",
    "                col('data.temp').alias('temp'), \n",
    "                col('data.visibility').alias('visibility'),\n",
    "                col('data.clouds').alias('clouds'),\n",
    "                col('data.rain').alias('rain'),\n",
    "                col('data.snow').alias('snow'))\n",
    "    \n",
    "weather_flatten_df = weather_flatten_df.drop(\"date_unix\")\n",
    "\n",
    "traffic_flatten_df = traffic_parsed_df.select(\n",
    "    col(\"values_json.latitude\").alias(\"latitude\"), \n",
    "    col(\"values_json.longitude\").alias(\"longitude\"),\n",
    "    col(\"values_json.current_speed\").alias(\"current_speed\"),\n",
    "    col(\"values_json.free_flow_speed\").alias(\"free_flow_speed\"),\n",
    "    col(\"values_json.current_travel_time\").alias(\"current_travel_time\"),\n",
    "    col(\"values_json.free_flow_travel_time\").alias(\"free_flow_travel_time\"),\n",
    "    col(\"values_json.confidence\").alias(\"confidence\"),\n",
    "    col(\"values_json.road_closure\").alias(\"road_closure\"),\n",
    "    to_timestamp(col(\"values_json.date\"), \"EEE, dd MMM yyyy HH:mm:ss z\").alias(\"date_utc\"),\n",
    "    from_utc_timestamp(col(\"date_utc\"), \"America/Los_Angeles\").alias(\"date\")\n",
    ")\n",
    "\n",
    "traffic_flatten_df = traffic_flatten_df.drop(\"date_utc\")\n",
    "\n",
    "#weather_parsed_df.printSchema()\n",
    "weather_flatten_df.show(truncate=False)\n",
    "\n",
    "# Convert date string to timestamp in UTC\n",
    "#to_timestamp(col(\"values_json.date\"), \"EEE, dd MMM yyyy HH:mm:ss z\").alias(\"date_utc\"),\n",
    "# Convert to PST\n",
    "#from_utc_timestamp(col(\"values_json.date\"), \"America/Los_Angeles\").alias(\"date\")\n",
    "\n",
    "\n",
    "# Convert UNIX timestamp to \n",
    "#weather_flatten_df = weather_flatten_df.withColumn((from_unixtime(col(\"date\")).alias(\"date\"))\n",
    "#traffic_flatten_df.show(truncate=False)\n",
    "#traffic_flatten_df.printSchema()"
   ]
  },
  {
   "cell_type": "code",
   "execution_count": null,
   "id": "01c0c101-b02b-4a43-9340-edbf2f29adc9",
   "metadata": {},
   "outputs": [],
   "source": []
  },
  {
   "cell_type": "code",
   "execution_count": null,
   "id": "39772d51-454d-4e97-aba2-63aea64af8c3",
   "metadata": {},
   "outputs": [
    {
     "name": "stdout",
     "output_type": "stream",
     "text": [
      "Streaming started... waiting for data...\n"
     ]
    },
    {
     "name": "stderr",
     "output_type": "stream",
     "text": [
      "ERROR:root:KeyboardInterrupt while sending command.\n",
      "Traceback (most recent call last):\n",
      "  File \"/usr/local/spark/python/lib/py4j-0.10.9.7-src.zip/py4j/java_gateway.py\", line 1038, in send_command\n",
      "    response = connection.send_command(command)\n",
      "               ^^^^^^^^^^^^^^^^^^^^^^^^^^^^^^^^\n",
      "  File \"/usr/local/spark/python/lib/py4j-0.10.9.7-src.zip/py4j/clientserver.py\", line 511, in send_command\n",
      "    answer = smart_decode(self.stream.readline()[:-1])\n",
      "                          ^^^^^^^^^^^^^^^^^^^^^^\n",
      "  File \"/opt/conda/lib/python3.11/socket.py\", line 706, in readinto\n",
      "    return self._sock.recv_into(b)\n",
      "           ^^^^^^^^^^^^^^^^^^^^^^^\n",
      "KeyboardInterrupt\n"
     ]
    },
    {
     "ename": "KeyboardInterrupt",
     "evalue": "",
     "output_type": "error",
     "traceback": [
      "\u001b[0;31m---------------------------------------------------------------------------\u001b[0m",
      "\u001b[0;31mKeyboardInterrupt\u001b[0m                         Traceback (most recent call last)",
      "Cell \u001b[0;32mIn[4], line 11\u001b[0m\n\u001b[1;32m      5\u001b[0m traffic_query \u001b[38;5;241m=\u001b[39m traffic_flatten_df\u001b[38;5;241m.\u001b[39mwriteStream \\\n\u001b[1;32m      6\u001b[0m     \u001b[38;5;241m.\u001b[39moutputMode(\u001b[38;5;124m'\u001b[39m\u001b[38;5;124mupdate\u001b[39m\u001b[38;5;124m'\u001b[39m) \\\n\u001b[1;32m      7\u001b[0m     \u001b[38;5;241m.\u001b[39mformat(\u001b[38;5;124m'\u001b[39m\u001b[38;5;124mconsole\u001b[39m\u001b[38;5;124m'\u001b[39m) \\\n\u001b[1;32m      8\u001b[0m     \u001b[38;5;241m.\u001b[39mstart()\n\u001b[1;32m     10\u001b[0m \u001b[38;5;28mprint\u001b[39m(\u001b[38;5;124m\"\u001b[39m\u001b[38;5;124mStreaming started... waiting for data...\u001b[39m\u001b[38;5;124m\"\u001b[39m)\n\u001b[0;32m---> 11\u001b[0m \u001b[43mweather_query\u001b[49m\u001b[38;5;241;43m.\u001b[39;49m\u001b[43mawaitTermination\u001b[49m\u001b[43m(\u001b[49m\u001b[43m)\u001b[49m\n\u001b[1;32m     12\u001b[0m traffic_query\u001b[38;5;241m.\u001b[39mawaitTermination()\n",
      "File \u001b[0;32m/usr/local/spark/python/pyspark/sql/streaming/query.py:221\u001b[0m, in \u001b[0;36mStreamingQuery.awaitTermination\u001b[0;34m(self, timeout)\u001b[0m\n\u001b[1;32m    219\u001b[0m     \u001b[38;5;28;01mreturn\u001b[39;00m \u001b[38;5;28mself\u001b[39m\u001b[38;5;241m.\u001b[39m_jsq\u001b[38;5;241m.\u001b[39mawaitTermination(\u001b[38;5;28mint\u001b[39m(timeout \u001b[38;5;241m*\u001b[39m \u001b[38;5;241m1000\u001b[39m))\n\u001b[1;32m    220\u001b[0m \u001b[38;5;28;01melse\u001b[39;00m:\n\u001b[0;32m--> 221\u001b[0m     \u001b[38;5;28;01mreturn\u001b[39;00m \u001b[38;5;28;43mself\u001b[39;49m\u001b[38;5;241;43m.\u001b[39;49m\u001b[43m_jsq\u001b[49m\u001b[38;5;241;43m.\u001b[39;49m\u001b[43mawaitTermination\u001b[49m\u001b[43m(\u001b[49m\u001b[43m)\u001b[49m\n",
      "File \u001b[0;32m/usr/local/spark/python/lib/py4j-0.10.9.7-src.zip/py4j/java_gateway.py:1321\u001b[0m, in \u001b[0;36mJavaMember.__call__\u001b[0;34m(self, *args)\u001b[0m\n\u001b[1;32m   1314\u001b[0m args_command, temp_args \u001b[38;5;241m=\u001b[39m \u001b[38;5;28mself\u001b[39m\u001b[38;5;241m.\u001b[39m_build_args(\u001b[38;5;241m*\u001b[39margs)\n\u001b[1;32m   1316\u001b[0m command \u001b[38;5;241m=\u001b[39m proto\u001b[38;5;241m.\u001b[39mCALL_COMMAND_NAME \u001b[38;5;241m+\u001b[39m\\\n\u001b[1;32m   1317\u001b[0m     \u001b[38;5;28mself\u001b[39m\u001b[38;5;241m.\u001b[39mcommand_header \u001b[38;5;241m+\u001b[39m\\\n\u001b[1;32m   1318\u001b[0m     args_command \u001b[38;5;241m+\u001b[39m\\\n\u001b[1;32m   1319\u001b[0m     proto\u001b[38;5;241m.\u001b[39mEND_COMMAND_PART\n\u001b[0;32m-> 1321\u001b[0m answer \u001b[38;5;241m=\u001b[39m \u001b[38;5;28;43mself\u001b[39;49m\u001b[38;5;241;43m.\u001b[39;49m\u001b[43mgateway_client\u001b[49m\u001b[38;5;241;43m.\u001b[39;49m\u001b[43msend_command\u001b[49m\u001b[43m(\u001b[49m\u001b[43mcommand\u001b[49m\u001b[43m)\u001b[49m\n\u001b[1;32m   1322\u001b[0m return_value \u001b[38;5;241m=\u001b[39m get_return_value(\n\u001b[1;32m   1323\u001b[0m     answer, \u001b[38;5;28mself\u001b[39m\u001b[38;5;241m.\u001b[39mgateway_client, \u001b[38;5;28mself\u001b[39m\u001b[38;5;241m.\u001b[39mtarget_id, \u001b[38;5;28mself\u001b[39m\u001b[38;5;241m.\u001b[39mname)\n\u001b[1;32m   1325\u001b[0m \u001b[38;5;28;01mfor\u001b[39;00m temp_arg \u001b[38;5;129;01min\u001b[39;00m temp_args:\n",
      "File \u001b[0;32m/usr/local/spark/python/lib/py4j-0.10.9.7-src.zip/py4j/java_gateway.py:1038\u001b[0m, in \u001b[0;36mGatewayClient.send_command\u001b[0;34m(self, command, retry, binary)\u001b[0m\n\u001b[1;32m   1036\u001b[0m connection \u001b[38;5;241m=\u001b[39m \u001b[38;5;28mself\u001b[39m\u001b[38;5;241m.\u001b[39m_get_connection()\n\u001b[1;32m   1037\u001b[0m \u001b[38;5;28;01mtry\u001b[39;00m:\n\u001b[0;32m-> 1038\u001b[0m     response \u001b[38;5;241m=\u001b[39m \u001b[43mconnection\u001b[49m\u001b[38;5;241;43m.\u001b[39;49m\u001b[43msend_command\u001b[49m\u001b[43m(\u001b[49m\u001b[43mcommand\u001b[49m\u001b[43m)\u001b[49m\n\u001b[1;32m   1039\u001b[0m     \u001b[38;5;28;01mif\u001b[39;00m binary:\n\u001b[1;32m   1040\u001b[0m         \u001b[38;5;28;01mreturn\u001b[39;00m response, \u001b[38;5;28mself\u001b[39m\u001b[38;5;241m.\u001b[39m_create_connection_guard(connection)\n",
      "File \u001b[0;32m/usr/local/spark/python/lib/py4j-0.10.9.7-src.zip/py4j/clientserver.py:511\u001b[0m, in \u001b[0;36mClientServerConnection.send_command\u001b[0;34m(self, command)\u001b[0m\n\u001b[1;32m    509\u001b[0m \u001b[38;5;28;01mtry\u001b[39;00m:\n\u001b[1;32m    510\u001b[0m     \u001b[38;5;28;01mwhile\u001b[39;00m \u001b[38;5;28;01mTrue\u001b[39;00m:\n\u001b[0;32m--> 511\u001b[0m         answer \u001b[38;5;241m=\u001b[39m smart_decode(\u001b[38;5;28mself\u001b[39m\u001b[38;5;241m.\u001b[39mstream\u001b[38;5;241m.\u001b[39mreadline()[:\u001b[38;5;241m-\u001b[39m\u001b[38;5;241m1\u001b[39m])\n\u001b[1;32m    512\u001b[0m         logger\u001b[38;5;241m.\u001b[39mdebug(\u001b[38;5;124m\"\u001b[39m\u001b[38;5;124mAnswer received: \u001b[39m\u001b[38;5;132;01m{0}\u001b[39;00m\u001b[38;5;124m\"\u001b[39m\u001b[38;5;241m.\u001b[39mformat(answer))\n\u001b[1;32m    513\u001b[0m         \u001b[38;5;66;03m# Happens when a the other end is dead. There might be an empty\u001b[39;00m\n\u001b[1;32m    514\u001b[0m         \u001b[38;5;66;03m# answer before the socket raises an error.\u001b[39;00m\n",
      "File \u001b[0;32m/opt/conda/lib/python3.11/socket.py:706\u001b[0m, in \u001b[0;36mSocketIO.readinto\u001b[0;34m(self, b)\u001b[0m\n\u001b[1;32m    704\u001b[0m \u001b[38;5;28;01mwhile\u001b[39;00m \u001b[38;5;28;01mTrue\u001b[39;00m:\n\u001b[1;32m    705\u001b[0m     \u001b[38;5;28;01mtry\u001b[39;00m:\n\u001b[0;32m--> 706\u001b[0m         \u001b[38;5;28;01mreturn\u001b[39;00m \u001b[38;5;28;43mself\u001b[39;49m\u001b[38;5;241;43m.\u001b[39;49m\u001b[43m_sock\u001b[49m\u001b[38;5;241;43m.\u001b[39;49m\u001b[43mrecv_into\u001b[49m\u001b[43m(\u001b[49m\u001b[43mb\u001b[49m\u001b[43m)\u001b[49m\n\u001b[1;32m    707\u001b[0m     \u001b[38;5;28;01mexcept\u001b[39;00m timeout:\n\u001b[1;32m    708\u001b[0m         \u001b[38;5;28mself\u001b[39m\u001b[38;5;241m.\u001b[39m_timeout_occurred \u001b[38;5;241m=\u001b[39m \u001b[38;5;28;01mTrue\u001b[39;00m\n",
      "\u001b[0;31mKeyboardInterrupt\u001b[0m: "
     ]
    }
   ],
   "source": [
    "weather_query = weather_flatten_df \\\n",
    "    .writeStream \\\n",
    "    .outputMode('append') \\\n",
    "    .format('console') \\\n",
    "    .start()\n",
    "traffic_query = traffic_flatten_df \\\n",
    "    .writeStream \\\n",
    "    .outputMode('append') \\\n",
    "    .format('console') \\\n",
    "    .start()\n",
    "\n",
    "print(\"Streaming started... waiting for data...\")\n",
    "weather_query.awaitTermination(60)\n",
    "traffic_query.awaitTermination(60)\n",
    "\n",
    "#weather_query.stop()\n",
    "#traffic_query.stop()"
   ]
  },
  {
   "cell_type": "code",
   "execution_count": null,
   "id": "2c1fca27-b836-4b93-b74a-3a36a710f2c8",
   "metadata": {},
   "outputs": [],
   "source": [
    "weather_query.stop()\n",
    "traffic_query.stop()"
   ]
  },
  {
   "cell_type": "code",
   "execution_count": null,
   "id": "cdd9875f-2c65-46ab-bb45-5828ef56e9a1",
   "metadata": {},
   "outputs": [],
   "source": []
  }
 ],
 "metadata": {
  "kernelspec": {
   "display_name": "Python 3 (ipykernel)",
   "language": "python",
   "name": "python3"
  },
  "language_info": {
   "codemirror_mode": {
    "name": "ipython",
    "version": 3
   },
   "file_extension": ".py",
   "mimetype": "text/x-python",
   "name": "python",
   "nbconvert_exporter": "python",
   "pygments_lexer": "ipython3",
   "version": "3.11.6"
  }
 },
 "nbformat": 4,
 "nbformat_minor": 5
}
