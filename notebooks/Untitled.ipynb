{
 "cells": [
  {
   "cell_type": "code",
   "execution_count": 1,
   "id": "847e2920-3f33-4fa5-baba-51a36bc1a403",
   "metadata": {},
   "outputs": [],
   "source": [
    "import os\n",
    "os.environ['PYSPARK_SUBMIT_ARGS'] = '--packages org.apache.spark:spark-sql-kafka-0-10_2.12:3.5.0 pyspark-shell'"
   ]
  },
  {
   "cell_type": "code",
   "execution_count": 2,
   "id": "45d1dd85-aa83-43cb-9f81-16b5de191696",
   "metadata": {},
   "outputs": [
    {
     "data": {
      "text/html": [
       "\n",
       "            <div>\n",
       "                <p><b>SparkSession - in-memory</b></p>\n",
       "                \n",
       "        <div>\n",
       "            <p><b>SparkContext</b></p>\n",
       "\n",
       "            <p><a href=\"http://03eca6975ee1:4040\">Spark UI</a></p>\n",
       "\n",
       "            <dl>\n",
       "              <dt>Version</dt>\n",
       "                <dd><code>v3.5.0</code></dd>\n",
       "              <dt>Master</dt>\n",
       "                <dd><code>local[*]</code></dd>\n",
       "              <dt>AppName</dt>\n",
       "                <dd><code>Stream Demo</code></dd>\n",
       "            </dl>\n",
       "        </div>\n",
       "        \n",
       "            </div>\n",
       "        "
      ],
      "text/plain": [
       "<pyspark.sql.session.SparkSession at 0xffff713c4cd0>"
      ]
     },
     "execution_count": 2,
     "metadata": {},
     "output_type": "execute_result"
    }
   ],
   "source": [
    "from pyspark.sql import SparkSession\n",
    "from pyspark.sql.types import *\n",
    "import pyspark.sql.functions as F\n",
    "\n",
    "spark = SparkSession \\\n",
    "    .builder \\\n",
    "    .appName('Stream Demo') \\\n",
    "    .getOrCreate()\n",
    "\n",
    "spark "
   ]
  },
  {
   "cell_type": "code",
   "execution_count": 4,
   "id": "7531aa00-9a8b-493a-a467-293c2710cfdd",
   "metadata": {
    "scrolled": true
   },
   "outputs": [],
   "source": [
    "from pyspark.sql.functions import *\n",
    "\n",
    "df = spark \\\n",
    "    .readStream \\\n",
    "    .format(\"kafka\") \\\n",
    "    .option(\"kafka.bootstrap.servers\", \"kafka:9092\") \\\n",
    "    .option(\"subscribe\", \"test\") \\\n",
    "    .option(\"startingOffsets\", \"earliest\") \\\n",
    "    .load()\n",
    "\n",
    "\n",
    "json_df = df.withColumn('value', expr('cast(value as string)')).withColumn('key', expr('cast(key as string)'))\n",
    "\n",
    "df_schema = StructType([\n",
    "    StructField('Longitude', DoubleType()),\n",
    "    StructField('Latitude', DoubleType()),\n",
    "    StructField('weather', StringType()),\n",
    "    StructField('weather_description', StringType()),\n",
    "    StructField('temp', IntegerType()),\n",
    "    StructField('visibility', IntegerType()),\n",
    "    StructField('clouds', IntegerType()),\n",
    "    StructField('rain', IntegerType()),\n",
    "    StructField('snow', IntegerType()),\n",
    "    StructField('date', IntegerType()),\n",
    "    StructField('name', StringType())\n",
    "])\n",
    "\n",
    "df = json_df.select(col('key'), col('value'))\n",
    "\n",
    "\n",
    "df = df.withColumn('values_json', from_json(col('value'), df_schema))\n",
    "\n",
    "flatten_df = df.select(\"key\",\n",
    "                df['values_json.Longitude'].alias('longitude'), \n",
    "                df['values_json.Latitude'].alias('latitude'), \n",
    "                df['values_json.weather'].alias('weather'), \n",
    "                df['values_json.weather_description'].alias('weather_description'), \n",
    "                df['values_json.temp'].alias('temp'), \n",
    "                df['values_json.visibility'].alias('visibility'),\n",
    "                df['values_json.clouds'].alias('clouds'),\n",
    "                df['values_json.rain'].alias('rain'),\n",
    "                df['values_json.snow'].alias('snow'),\n",
    "                df['values_json.date'].alias('date'),\n",
    "                df['values_json.name'].alias('name'))\n",
    "\n",
    "#flatten_df.show()\n",
    "#flatten_df.printSchema()"
   ]
  },
  {
   "cell_type": "code",
   "execution_count": null,
   "id": "80c965cd-9bd8-40cf-b97d-03c3e7bc2a64",
   "metadata": {},
   "outputs": [],
   "source": [
    "query = flatten_df.writeStream \\\n",
    "    .outputMode('append') \\\n",
    "    .format('console') \\\n",
    "    .start()\n",
    "\n",
    "query.awaitTermination()\n",
    "\n",
    "query.stop()"
   ]
  },
  {
   "cell_type": "code",
   "execution_count": null,
   "id": "98b00105-ce02-4947-b464-f1768c1522a9",
   "metadata": {},
   "outputs": [],
   "source": []
  }
 ],
 "metadata": {
  "kernelspec": {
   "display_name": "Python 3 (ipykernel)",
   "language": "python",
   "name": "python3"
  },
  "language_info": {
   "codemirror_mode": {
    "name": "ipython",
    "version": 3
   },
   "file_extension": ".py",
   "mimetype": "text/x-python",
   "name": "python",
   "nbconvert_exporter": "python",
   "pygments_lexer": "ipython3",
   "version": "3.11.6"
  }
 },
 "nbformat": 4,
 "nbformat_minor": 5
}
