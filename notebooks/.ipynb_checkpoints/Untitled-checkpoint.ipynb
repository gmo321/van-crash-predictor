{
 "cells": [
  {
   "cell_type": "code",
   "execution_count": 1,
   "id": "37583c84-5507-4feb-8552-4b0f8db92d9b",
   "metadata": {},
   "outputs": [],
   "source": [
    "import os\n",
    "os.environ['PYSPARK_SUBMIT_ARGS'] = '--packages org.apache.spark:spark-sql-kafka-0-10_2.12:3.5.0 pyspark-shell'"
   ]
  },
  {
   "cell_type": "code",
   "execution_count": 2,
   "id": "dc063a70-7ef3-452a-b76e-b31866566bbe",
   "metadata": {},
   "outputs": [
    {
     "data": {
      "text/html": [
       "\n",
       "            <div>\n",
       "                <p><b>SparkSession - in-memory</b></p>\n",
       "                \n",
       "        <div>\n",
       "            <p><b>SparkContext</b></p>\n",
       "\n",
       "            <p><a href=\"http://c8eeac4a0c90:4040\">Spark UI</a></p>\n",
       "\n",
       "            <dl>\n",
       "              <dt>Version</dt>\n",
       "                <dd><code>v3.5.0</code></dd>\n",
       "              <dt>Master</dt>\n",
       "                <dd><code>local[*]</code></dd>\n",
       "              <dt>AppName</dt>\n",
       "                <dd><code>Stream Demo</code></dd>\n",
       "            </dl>\n",
       "        </div>\n",
       "        \n",
       "            </div>\n",
       "        "
      ],
      "text/plain": [
       "<pyspark.sql.session.SparkSession at 0xffff61289090>"
      ]
     },
     "execution_count": 2,
     "metadata": {},
     "output_type": "execute_result"
    }
   ],
   "source": [
    "from pyspark.sql import SparkSession\n",
    "from pyspark.sql.types import *\n",
    "import pyspark.sql.functions as F\n",
    "\n",
    "spark = SparkSession \\\n",
    "    .builder \\\n",
    "    .appName('Stream Demo') \\\n",
    "    .getOrCreate()\n",
    "\n",
    "spark "
   ]
  },
  {
   "cell_type": "code",
   "execution_count": 7,
   "id": "1c13ab8d-c892-4ab9-b4b5-cf1bfa21267d",
   "metadata": {},
   "outputs": [],
   "source": [
    "from pyspark.sql.functions import *\n",
    "\n",
    "weather_stream = spark \\\n",
    "    .readStream \\\n",
    "    .format(\"kafka\") \\\n",
    "    .option(\"kafka.bootstrap.servers\", \"kafka:9092\") \\\n",
    "    .option(\"subscribe\", \"weather-data\") \\\n",
    "    .option(\"startingOffsets\", \"latest\") \\\n",
    "    .load()\n",
    "    \n",
    "\n",
    "traffic_stream = spark \\\n",
    "    .readStream \\\n",
    "    .format(\"kafka\") \\\n",
    "    .option(\"kafka.bootstrap.servers\", \"kafka:9092\") \\\n",
    "    .option(\"subscribe\", \"traffic-data\") \\\n",
    "    .option(\"startingOffsets\", \"latest\") \\\n",
    "    .load()\n",
    "\n",
    "weather_json_df = weather_stream.withColumn('value', expr('cast(value as string)')).withColumn('key', expr('cast(key as string)'))\n",
    "traffic_json_df = traffic_stream.withColumn('value', expr('cast(value as string)')).withColumn('key', expr('cast(key as string)'))\n",
    "\n",
    "weather_schema = StructType([\n",
    "    StructField('Longitude', DoubleType()),\n",
    "    StructField('Latitude', DoubleType()),\n",
    "    StructField('weather', StringType()),\n",
    "    StructField('weather_description', StringType()),\n",
    "    StructField('temp', DoubleType()),\n",
    "    StructField('visibility', IntegerType()),\n",
    "    StructField('clouds', IntegerType()),\n",
    "    StructField('rain', IntegerType()),\n",
    "    StructField('snow', IntegerType()),\n",
    "    StructField('date', IntegerType()),\n",
    "    StructField('name', StringType())\n",
    "])\n",
    "\n",
    "traffic_schema = StructType([\n",
    "    StructField(\"latitude\", DoubleType(), True),\n",
    "    StructField(\"longitude\", DoubleType(), True),\n",
    "    StructField(\"current_speed\", IntegerType(), True),\n",
    "    StructField(\"free_flow_speed\", IntegerType(), True),\n",
    "    StructField(\"current_travel_time\", IntegerType(), True),\n",
    "    StructField(\"free_flow_travel_time\", IntegerType(), True),\n",
    "    StructField(\"confidence\", IntegerType(), True),\n",
    "    StructField(\"road_closure\", BooleanType(), True)\n",
    "])\n",
    "\n",
    "weather_parsed_df = weather_json_df.withColumn(\"values_json\", from_json(col(\"value\"), weather_schema))\n",
    "traffic_parsed_df = traffic_json_df.withColumn(\"values_json\", from_json(col(\"value\"), traffic_schema))\n",
    "\n",
    "weather_flatten_df = weather_parsed_df.select(\"key\",\n",
    "                weather_parsed_df['values_json.Longitude'].alias('longitude'), \n",
    "                weather_parsed_df['values_json.Latitude'].alias('latitude'), \n",
    "                weather_parsed_df['values_json.weather'].alias('weather'), \n",
    "                weather_parsed_df['values_json.weather_description'].alias('weather_description'), \n",
    "                weather_parsed_df['values_json.temp'].alias('temp'), \n",
    "                weather_parsed_df['values_json.visibility'].alias('visibility'),\n",
    "                weather_parsed_df['values_json.clouds'].alias('clouds'),\n",
    "                weather_parsed_df['values_json.rain'].alias('rain'),\n",
    "                weather_parsed_df['values_json.snow'].alias('snow'),\n",
    "                weather_parsed_df['values_json.date'].alias('date'),\n",
    "                weather_parsed_df['values_json.name'].alias('name'))\n",
    "\n",
    "traffic_flatten_df = traffic_parsed_df.select(\n",
    "    col(\"values_json.latitude\").alias(\"latitude\"), \n",
    "    col(\"values_json.longitude\").alias(\"longitude\"),\n",
    "    col(\"values_json.current_speed\").alias(\"current_speed\"),\n",
    "    col(\"values_json.free_flow_speed\").alias(\"free_flow_speed\"),\n",
    "    col(\"values_json.current_travel_time\").alias(\"current_travel_time\"),\n",
    "    col(\"values_json.free_flow_travel_time\").alias(\"free_flow_travel_time\"),\n",
    "    col(\"values_json.confidence\").alias(\"confidence\"),\n",
    "    col(\"values_json.road_closure\").alias(\"road_closure\")\n",
    ")\n",
    "\n",
    "\n",
    "#traffic_flatten_df.show(truncate=False)\n",
    "#traffic_flatten_df.printSchema()"
   ]
  },
  {
   "cell_type": "code",
   "execution_count": null,
   "id": "39772d51-454d-4e97-aba2-63aea64af8c3",
   "metadata": {},
   "outputs": [],
   "source": [
    "weather_query = weather_flatten_df.writeStream \\\n",
    "    .outputMode('update') \\\n",
    "    .format('console') \\\n",
    "    .start()\n",
    "traffic_query = traffic_flatten_df.writeStream \\\n",
    "    .outputMode('update') \\\n",
    "    .format('console') \\\n",
    "    .start()\n",
    "\n",
    "print(\"Streaming started... waiting for data...\")\n",
    "weather_query.awaitTermination()\n",
    "traffic_query.awaitTermination()"
   ]
  },
  {
   "cell_type": "code",
   "execution_count": null,
   "id": "2c1fca27-b836-4b93-b74a-3a36a710f2c8",
   "metadata": {},
   "outputs": [],
   "source": []
  }
 ],
 "metadata": {
  "kernelspec": {
   "display_name": "Python 3 (ipykernel)",
   "language": "python",
   "name": "python3"
  },
  "language_info": {
   "codemirror_mode": {
    "name": "ipython",
    "version": 3
   },
   "file_extension": ".py",
   "mimetype": "text/x-python",
   "name": "python",
   "nbconvert_exporter": "python",
   "pygments_lexer": "ipython3",
   "version": "3.11.6"
  }
 },
 "nbformat": 4,
 "nbformat_minor": 5
}
